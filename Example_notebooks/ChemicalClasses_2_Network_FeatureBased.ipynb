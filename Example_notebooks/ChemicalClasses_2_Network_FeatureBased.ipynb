{
 "cells": [
  {
   "cell_type": "markdown",
   "metadata": {},
   "source": [
    "Download GNPS data <br>\n",
    "Replace Job ID below with your GNPS job ID:"
   ]
  },
  {
   "cell_type": "code",
   "execution_count": 1,
   "metadata": {},
   "outputs": [
    {
     "name": "stdout",
     "output_type": "stream",
     "text": [
      "  % Total    % Received % Xferd  Average Speed   Time    Time     Time  Current\n",
      "                                 Dload  Upload   Total   Spent    Left  Speed\n",
      "100 2078k    0 2078k    0     0   140k      0 --:--:--  0:00:14 --:--:--  198k\n",
      "Archive:  GNPS_output_graphML.zip\n",
      "  inflating: GNPS_output_graphML/FEATURE-BASED-MOLECULAR-NETWORKING-b817262c-download_cytoscape_data-main.graphml  \n",
      "  inflating: GNPS_output_graphML/params.xml  \n",
      "  inflating: GNPS_output_graphML/DB_result/199547f600354368817ea480a44d4791.tsv  \n",
      "  inflating: GNPS_output_graphML/networking_pairs_results_file_filtered/0aafc490cc974963a5b02dccc4cd27f6.tsv  \n",
      "  inflating: GNPS_output_graphML/clusterinfo_summary/864b10ab978e40a68ddb30f358079b00.tsv  \n",
      "  inflating: GNPS_output_graphML/gnps_molecular_network_graphml/e359f26d5ed4488eb589126f2fe9abc8.graphml  \n"
     ]
    }
   ],
   "source": [
    "! curl -d \"\" 'https://gnps.ucsd.edu/ProteoSAFe/DownloadResult?task=b817262cb6114e7295fee4f73b22a3ad&view=download_cytoscape_data' -o GNPS_output_graphML.zip\n",
    "! unzip -d GNPS_output_graphML/ GNPS_output_graphML.zip"
   ]
  },
  {
   "cell_type": "markdown",
   "metadata": {},
   "source": [
    "specify your NAP job ID:"
   ]
  },
  {
   "cell_type": "code",
   "execution_count": 1,
   "metadata": {},
   "outputs": [],
   "source": [
    "nap_id = 'c4bb6b8be9e14bdebe87c6ef3abe11f6'"
   ]
  },
  {
   "cell_type": "markdown",
   "metadata": {},
   "source": [
    "load libraries"
   ]
  },
  {
   "cell_type": "code",
   "execution_count": 2,
   "metadata": {},
   "outputs": [],
   "source": [
    "from pyMolNetEnhancer import *\n",
    "import pandas as pd\n",
    "import os\n",
    "import csv \n",
    "import json\n",
    "from networkx import *\n",
    "path = '/Applications/MarvinSuite/bin/' #path to MarvinSuite's molconvert used to convert SMILES to InchiKeys\n",
    "os.environ['PATH'] += ':'+path"
   ]
  },
  {
   "cell_type": "code",
   "execution_count": 3,
   "metadata": {},
   "outputs": [],
   "source": [
    "netfile = 'GNPS_output_graphML/clusterinfo_summary/' + str(os.listdir('GNPS_output_graphML/clusterinfo_summary/')[0])\n",
    "gnpslibfile = 'GNPS_output_graphML/DB_result/'+ str(os.listdir('GNPS_output_graphML/DB_result/')[0])"
   ]
  },
  {
   "cell_type": "code",
   "execution_count": 4,
   "metadata": {},
   "outputs": [],
   "source": [
    "nap = pd.read_csv(\"http://proteomics2.ucsd.edu/ProteoSAFe/DownloadResultFile?task=\"+nap_id+\"&block=main&file=final_out/node_attributes_table.tsv\", sep = \"\\t\")\n",
    "gnpslib = pd.read_csv(gnpslibfile, sep='\\t')"
   ]
  },
  {
   "cell_type": "markdown",
   "metadata": {},
   "source": [
    "add all chemical structural information output as dataframe items in list"
   ]
  },
  {
   "cell_type": "code",
   "execution_count": 5,
   "metadata": {},
   "outputs": [],
   "source": [
    "matches = [gnpslib, nap]"
   ]
  },
  {
   "cell_type": "code",
   "execution_count": 6,
   "metadata": {},
   "outputs": [],
   "source": [
    "out = unique_smiles(matches)"
   ]
  },
  {
   "cell_type": "code",
   "execution_count": 7,
   "metadata": {},
   "outputs": [],
   "source": [
    "out['df'].to_csv(\"SMILES.csv\", quoting=csv.QUOTE_NONE, escapechar='&')"
   ]
  },
  {
   "cell_type": "markdown",
   "metadata": {},
   "source": [
    "convert SMILES to InchiKeys"
   ]
  },
  {
   "cell_type": "code",
   "execution_count": 8,
   "metadata": {},
   "outputs": [],
   "source": [
    "! molconvert inchikey:SAbs SMILES.csv{csv:strucSMILES} -o InchiKeys.txt"
   ]
  },
  {
   "cell_type": "code",
   "execution_count": 9,
   "metadata": {},
   "outputs": [],
   "source": [
    "ikeys = pd.read_csv(\"InchiKeys.txt\",  sep='\\t',header = None)\n",
    "\n",
    "out['df'][\"inchikey\"] = ikeys\n",
    "inchi_dic = make_inchidic(out)\n",
    "\n",
    "ikeys.columns = [\"InChIKey\"]\n",
    "ikeys.to_csv(\"InchiKeys.txt\", quoting=csv.QUOTE_NONE, escapechar='&')"
   ]
  },
  {
   "cell_type": "markdown",
   "metadata": {},
   "source": [
    "retrieve ClassyFire classifcations"
   ]
  },
  {
   "cell_type": "code",
   "execution_count": 10,
   "metadata": {},
   "outputs": [
    {
     "name": "stdout",
     "output_type": "stream",
     "text": [
      "1000\n",
      "2000\n",
      "3000\n",
      "4000\n",
      "5000\n",
      "6000\n"
     ]
    }
   ],
   "source": [
    "get_classifications(\"InchiKeys.txt\")"
   ]
  },
  {
   "cell_type": "code",
   "execution_count": 11,
   "metadata": {},
   "outputs": [],
   "source": [
    "with open(\"all_json.json\") as tweetfile:\n",
    "    jsondic = json.loads(tweetfile.read())\n",
    "\n",
    "\n",
    "df = make_classy_table(jsondic)\n",
    "df = df.rename(columns = {'class':'CF_class','smiles':'SMILES'})\n",
    "net = pd.read_csv(netfile,  sep='\\t')\n",
    "\n",
    "\n",
    "final = molfam_classes(net,df,inchi_dic)"
   ]
  },
  {
   "cell_type": "code",
   "execution_count": 12,
   "metadata": {},
   "outputs": [
    {
     "data": {
      "text/html": [
       "<div>\n",
       "<style scoped>\n",
       "    .dataframe tbody tr th:only-of-type {\n",
       "        vertical-align: middle;\n",
       "    }\n",
       "\n",
       "    .dataframe tbody tr th {\n",
       "        vertical-align: top;\n",
       "    }\n",
       "\n",
       "    .dataframe thead th {\n",
       "        text-align: right;\n",
       "    }\n",
       "</style>\n",
       "<table border=\"1\" class=\"dataframe\">\n",
       "  <thead>\n",
       "    <tr style=\"text-align: right;\">\n",
       "      <th></th>\n",
       "      <th>cluster index</th>\n",
       "      <th>CF_componentindex</th>\n",
       "      <th>CF_NrNodes</th>\n",
       "      <th>CF_kingdom</th>\n",
       "      <th>CF_kingdom_score</th>\n",
       "      <th>CF_superclass</th>\n",
       "      <th>CF_superclass_score</th>\n",
       "      <th>CF_class</th>\n",
       "      <th>CF_class_score</th>\n",
       "      <th>CF_subclass</th>\n",
       "      <th>CF_subclass_score</th>\n",
       "      <th>CF_Dparent</th>\n",
       "      <th>CF_Dparent_score</th>\n",
       "      <th>CF_MFramework</th>\n",
       "      <th>CF_MFramework_score</th>\n",
       "    </tr>\n",
       "  </thead>\n",
       "  <tbody>\n",
       "    <tr>\n",
       "      <th>0</th>\n",
       "      <td>1</td>\n",
       "      <td>343</td>\n",
       "      <td>4</td>\n",
       "      <td>no matches</td>\n",
       "      <td></td>\n",
       "      <td>no matches</td>\n",
       "      <td></td>\n",
       "      <td>no matches</td>\n",
       "      <td></td>\n",
       "      <td>no matches</td>\n",
       "      <td></td>\n",
       "      <td>no matches</td>\n",
       "      <td></td>\n",
       "      <td>no matches</td>\n",
       "      <td></td>\n",
       "    </tr>\n",
       "    <tr>\n",
       "      <th>1</th>\n",
       "      <td>3</td>\n",
       "      <td>343</td>\n",
       "      <td>4</td>\n",
       "      <td>no matches</td>\n",
       "      <td></td>\n",
       "      <td>no matches</td>\n",
       "      <td></td>\n",
       "      <td>no matches</td>\n",
       "      <td></td>\n",
       "      <td>no matches</td>\n",
       "      <td></td>\n",
       "      <td>no matches</td>\n",
       "      <td></td>\n",
       "      <td>no matches</td>\n",
       "      <td></td>\n",
       "    </tr>\n",
       "    <tr>\n",
       "      <th>2</th>\n",
       "      <td>20</td>\n",
       "      <td>343</td>\n",
       "      <td>4</td>\n",
       "      <td>no matches</td>\n",
       "      <td></td>\n",
       "      <td>no matches</td>\n",
       "      <td></td>\n",
       "      <td>no matches</td>\n",
       "      <td></td>\n",
       "      <td>no matches</td>\n",
       "      <td></td>\n",
       "      <td>no matches</td>\n",
       "      <td></td>\n",
       "      <td>no matches</td>\n",
       "      <td></td>\n",
       "    </tr>\n",
       "    <tr>\n",
       "      <th>3</th>\n",
       "      <td>1959</td>\n",
       "      <td>343</td>\n",
       "      <td>4</td>\n",
       "      <td>no matches</td>\n",
       "      <td></td>\n",
       "      <td>no matches</td>\n",
       "      <td></td>\n",
       "      <td>no matches</td>\n",
       "      <td></td>\n",
       "      <td>no matches</td>\n",
       "      <td></td>\n",
       "      <td>no matches</td>\n",
       "      <td></td>\n",
       "      <td>no matches</td>\n",
       "      <td></td>\n",
       "    </tr>\n",
       "    <tr>\n",
       "      <th>4</th>\n",
       "      <td>2</td>\n",
       "      <td>S1</td>\n",
       "      <td>1</td>\n",
       "      <td>no matches</td>\n",
       "      <td></td>\n",
       "      <td>no matches</td>\n",
       "      <td></td>\n",
       "      <td>no matches</td>\n",
       "      <td></td>\n",
       "      <td>no matches</td>\n",
       "      <td></td>\n",
       "      <td>no matches</td>\n",
       "      <td></td>\n",
       "      <td>no matches</td>\n",
       "      <td></td>\n",
       "    </tr>\n",
       "  </tbody>\n",
       "</table>\n",
       "</div>"
      ],
      "text/plain": [
       "   cluster index CF_componentindex  CF_NrNodes  CF_kingdom CF_kingdom_score  \\\n",
       "0              1               343           4  no matches                    \n",
       "1              3               343           4  no matches                    \n",
       "2             20               343           4  no matches                    \n",
       "3           1959               343           4  no matches                    \n",
       "4              2                S1           1  no matches                    \n",
       "\n",
       "  CF_superclass CF_superclass_score    CF_class CF_class_score CF_subclass  \\\n",
       "0    no matches                      no matches                 no matches   \n",
       "1    no matches                      no matches                 no matches   \n",
       "2    no matches                      no matches                 no matches   \n",
       "3    no matches                      no matches                 no matches   \n",
       "4    no matches                      no matches                 no matches   \n",
       "\n",
       "  CF_subclass_score  CF_Dparent CF_Dparent_score CF_MFramework  \\\n",
       "0                    no matches                     no matches   \n",
       "1                    no matches                     no matches   \n",
       "2                    no matches                     no matches   \n",
       "3                    no matches                     no matches   \n",
       "4                    no matches                     no matches   \n",
       "\n",
       "  CF_MFramework_score  \n",
       "0                      \n",
       "1                      \n",
       "2                      \n",
       "3                      \n",
       "4                      "
      ]
     },
     "execution_count": 12,
     "metadata": {},
     "output_type": "execute_result"
    }
   ],
   "source": [
    "final.head()"
   ]
  },
  {
   "cell_type": "markdown",
   "metadata": {},
   "source": [
    "write ClassyFire results per molecular family to file. To visualize chemical classes within the mass spectral molecular network, this file can be imported as table into Cytoscape."
   ]
  },
  {
   "cell_type": "code",
   "execution_count": 13,
   "metadata": {},
   "outputs": [],
   "source": [
    "final.to_csv(\"ClassyFireResults_Network.txt\", sep = '\\t', index = False)"
   ]
  },
  {
   "cell_type": "markdown",
   "metadata": {},
   "source": [
    "how many InChIKeys could not be classified? (percentage of total submitted InChIKeys)"
   ]
  },
  {
   "cell_type": "code",
   "execution_count": 14,
   "metadata": {},
   "outputs": [
    {
     "data": {
      "text/plain": [
       "0.005929487179487179"
      ]
     },
     "execution_count": 14,
     "metadata": {},
     "output_type": "execute_result"
    }
   ],
   "source": [
    "len(set(list(ikeys.InChIKey)) - set(list(df.inchikey)))/len(set(list(ikeys.InChIKey)))"
   ]
  },
  {
   "cell_type": "markdown",
   "metadata": {},
   "source": [
    "which InChIKeys could not be classified?"
   ]
  },
  {
   "cell_type": "code",
   "execution_count": 15,
   "metadata": {},
   "outputs": [
    {
     "data": {
      "text/plain": [
       "{'InChIKey=ABOXWZCNWOBUEO-VZUYHUTRSA-N',\n",
       " 'InChIKey=BEMSJAOWFQJOQA-RRHRGVEJSA-N',\n",
       " 'InChIKey=BHWYZGMLEVGFMX-UHFFFAOYSA-O',\n",
       " 'InChIKey=BIMRUUBGKLOKIW-UHFFFAOYSA-N',\n",
       " 'InChIKey=DQVGVYRSVYCJRR-FIQWRLCJSA-N',\n",
       " 'InChIKey=DZUXGQBLFALXCR-BRIYLRKRSA-N',\n",
       " 'InChIKey=FJKJTTCPLFXVEB-WBVITSLISA-N',\n",
       " 'InChIKey=GCJSAIGGRCSHDG-VZUYHUTRSA-N',\n",
       " 'InChIKey=GOHNIXDAQODZKP-IKCNDWCXSA-N',\n",
       " 'InChIKey=GZBVGLNVBKBGBN-RWYGWLOXSA-N',\n",
       " 'InChIKey=IKBJPCBQVRRWBQ-DZCWXNLFSA-N',\n",
       " 'InChIKey=IRIIDLWTFLCEMW-RWYGWLOXSA-N',\n",
       " 'InChIKey=JBYXPOFIGCOSSB-IPBYNONMSA-N',\n",
       " 'InChIKey=KDCYUKBGSBLZDI-RRHRGVEJSA-N',\n",
       " 'InChIKey=KEJZKSADWMARKE-UHFFFAOYSA-N',\n",
       " 'InChIKey=KQXVERRYBYGQJZ-UHFFFAOYSA-N',\n",
       " 'InChIKey=KWSQCBUVZQFFAT-UHFFFAOYSA-N',\n",
       " 'InChIKey=LLTQYPOQKZYEMB-AKAJXFOGSA-N',\n",
       " 'InChIKey=MKOKWBRPIBQYJJ-QOTIJYPWSA-N',\n",
       " 'InChIKey=OMOPBJMQRZZWCK-AKAJXFOGSA-N',\n",
       " 'InChIKey=PCRXUPNJCXVABN-RRHRGVEJSA-N',\n",
       " 'InChIKey=PRMWQIVYOYCJQC-VIQWUECVSA-N',\n",
       " 'InChIKey=PUKCSTQGOYUVRY-KEGXYFPCSA-N',\n",
       " 'InChIKey=PXGNVFUWTUIRCJ-UHFFFAOYSA-N',\n",
       " 'InChIKey=PXGPLTODNUVGFL-UVSIREBESA-N',\n",
       " 'InChIKey=QYSXJUFSXHHAJI-CJJWQTMXSA-N',\n",
       " 'InChIKey=RTAMDSKHHWGJMG-RWYGWLOXSA-N',\n",
       " 'InChIKey=SKUXUTQFIVWLNQ-QZNUWAOFSA-N',\n",
       " 'InChIKey=SYCLSGAGTPLKOH-RRHRGVEJSA-N',\n",
       " 'InChIKey=ULUBTSXVFBWWEF-RRHRGVEJSA-N',\n",
       " 'InChIKey=VOGXDRFFBBLZBT-UHFFFAOYSA-N',\n",
       " 'InChIKey=VZFTWWJAUZOJDH-UHFFFAOYSA-O',\n",
       " 'InChIKey=WBVJLWJOUHVTNO-JVUALNACSA-N',\n",
       " 'InChIKey=XSVAKXYZKYCILC-RWYGWLOXSA-N',\n",
       " 'InChIKey=XXEIIEJSVKUHCZ-IWUIYUTDSA-N',\n",
       " 'InChIKey=XYPIPAZQKJCDSJ-UHFFFAOYSA-N',\n",
       " 'InChIKey=YUGCAAVRZWBXEQ-RWDMXNMGSA-N'}"
      ]
     },
     "execution_count": 15,
     "metadata": {},
     "output_type": "execute_result"
    }
   ],
   "source": [
    "set(list(ikeys.InChIKey)) - set(list(df.inchikey))"
   ]
  },
  {
   "cell_type": "markdown",
   "metadata": {},
   "source": [
    "create graphML file"
   ]
  },
  {
   "cell_type": "code",
   "execution_count": 17,
   "metadata": {},
   "outputs": [],
   "source": [
    "graphMLfile = 'GNPS_output_graphML/' + [x for x in os.listdir('GNPS_output_graphML/') if 'FEATURE' in x][0]"
   ]
  },
  {
   "cell_type": "code",
   "execution_count": 18,
   "metadata": {},
   "outputs": [],
   "source": [
    "graphML = read_graphml(graphMLfile)"
   ]
  },
  {
   "cell_type": "code",
   "execution_count": 19,
   "metadata": {},
   "outputs": [],
   "source": [
    "graphML_classy = make_classyfire_graphml(graphML,final)"
   ]
  },
  {
   "cell_type": "markdown",
   "metadata": {},
   "source": [
    "write graphML file"
   ]
  },
  {
   "cell_type": "code",
   "execution_count": 20,
   "metadata": {},
   "outputs": [],
   "source": [
    "nx.write_graphml(graphML_classy, \"ClassyFireResults_Network.graphml\", infer_numeric_types = True)"
   ]
  }
 ],
 "metadata": {
  "kernelspec": {
   "display_name": "Python 3",
   "language": "python",
   "name": "python3"
  },
  "language_info": {
   "codemirror_mode": {
    "name": "ipython",
    "version": 3
   },
   "file_extension": ".py",
   "mimetype": "text/x-python",
   "name": "python",
   "nbconvert_exporter": "python",
   "pygments_lexer": "ipython3",
   "version": "3.6.5"
  }
 },
 "nbformat": 4,
 "nbformat_minor": 2
}
