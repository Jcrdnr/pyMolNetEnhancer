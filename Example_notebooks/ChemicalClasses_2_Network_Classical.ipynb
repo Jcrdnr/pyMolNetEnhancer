{
 "cells": [
  {
   "cell_type": "markdown",
   "metadata": {},
   "source": [
    "Download GNPS data <br>\n",
    "Replace Job ID below with your GNPS job ID:"
   ]
  },
  {
   "cell_type": "code",
   "execution_count": 1,
   "metadata": {},
   "outputs": [
    {
     "name": "stdout",
     "output_type": "stream",
     "text": [
      "  % Total    % Received % Xferd  Average Speed   Time    Time     Time  Current\n",
      "                                 Dload  Upload   Total   Spent    Left  Speed\n",
      "100  437k    0  437k    0     0   202k      0 --:--:--  0:00:02 --:--:--  202k0 --:--:--  0:00:01 --:--:-- 75821\n",
      "Archive:  GNPS_output_graphML.zip\n",
      "  inflating: GNPS_output_graphML/METABOLOMICS-SNETS-V2-b76dd5a1-download_cytoscape_data-main.graphml  \n",
      "  inflating: GNPS_output_graphML/params.xml  \n",
      "  inflating: GNPS_output_graphML/clusterinfo/99f5516ab61046ec8c8a0c8f035a2880.clusterinfo  \n",
      "  inflating: GNPS_output_graphML/clusterinfosummarygroup_attributes_withIDs_withcomponentID/5207ac30d6054805bf09e9a49538be08.clustersummary  \n",
      "  inflating: GNPS_output_graphML/networkedges_selfloop/6f89d6e019364eaba19c2f237fc503db..selfloop  \n",
      "  inflating: GNPS_output_graphML/result_specnets_DB/562ad714cb0c425c8cd7c00ab4472463.tsv  \n",
      "  inflating: GNPS_output_graphML/groupmapping_converted/38eb2ddbac514d7384f1ca901558bf8a.group  \n"
     ]
    }
   ],
   "source": [
    "! curl -d \"\" 'https://gnps.ucsd.edu/ProteoSAFe/DownloadResult?task=b76dd5a123e54a7eb42765499f9163a5&view=download_cytoscape_data' -o GNPS_output_graphML.zip\n",
    "! unzip -d GNPS_output_graphML/ GNPS_output_graphML.zip"
   ]
  },
  {
   "cell_type": "markdown",
   "metadata": {},
   "source": [
    "Download <i>in silico</i> structural annotation (Dereplicator, Varquest) data <br>\n",
    "Replace Job IDs below with your Dereplicator or Varquest job IDs:"
   ]
  },
  {
   "cell_type": "code",
   "execution_count": 2,
   "metadata": {},
   "outputs": [
    {
     "name": "stdout",
     "output_type": "stream",
     "text": [
      "  % Total    % Received % Xferd  Average Speed   Time    Time     Time  Current\n",
      "                                 Dload  Upload   Total   Spent    Left  Speed\n",
      "100 30644    0 30644    0     0  26739      0 --:--:--  0:00:01 --:--:-- 26739\n",
      "Archive:  Varquest_output.zip\n",
      "  inflating: Varquest_output/DEREPLICATOR-4d971b81-view_significant-main.tsv  \n",
      "  inflating: Varquest_output/params.xml  \n",
      "  % Total    % Received % Xferd  Average Speed   Time    Time     Time  Current\n",
      "                                 Dload  Upload   Total   Spent    Left  Speed\n",
      "100  1348  100  1348    0     0   1466      0 --:--:-- --:--:-- --:--:--  1466\n",
      "Archive:  Derep_output.zip\n",
      "  inflating: Derep_output/DEREPLICATOR-c62d3283-view_significant-main.tsv  \n",
      "  inflating: Derep_output/params.xml  \n"
     ]
    }
   ],
   "source": [
    "! curl -d \"\" 'https://gnps.ucsd.edu/ProteoSAFe/DownloadResult?task=4d971b8162644e869a68faa35f01b915&view=view_significant' -o Varquest_output.zip\n",
    "! unzip -d Varquest_output/ Varquest_output.zip\n",
    "\n",
    "! curl -d \"\" 'https://gnps.ucsd.edu/ProteoSAFe/DownloadResult?task=c62d3283752f4f98b1720d0a6d1ee65b&view=view_significant' -o Derep_output.zip\n",
    "! unzip -d Derep_output/ Derep_output.zip"
   ]
  },
  {
   "cell_type": "markdown",
   "metadata": {},
   "source": [
    "specify your NAP job ID:"
   ]
  },
  {
   "cell_type": "code",
   "execution_count": 1,
   "metadata": {},
   "outputs": [],
   "source": [
    "nap_id = 'cb63770fe307410492468f62f9edb8f3'"
   ]
  },
  {
   "cell_type": "markdown",
   "metadata": {},
   "source": [
    "load libraries"
   ]
  },
  {
   "cell_type": "code",
   "execution_count": 2,
   "metadata": {},
   "outputs": [],
   "source": [
    "from pyMolNetEnhancer import *\n",
    "import pandas as pd\n",
    "import os\n",
    "import csv \n",
    "import json\n",
    "from networkx import *\n",
    "path = '/Applications/MarvinSuite/bin/' #path to MarvinSuite's molconvert used to convert SMILES to InchiKeys\n",
    "os.environ['PATH'] += ':'+path"
   ]
  },
  {
   "cell_type": "code",
   "execution_count": 3,
   "metadata": {},
   "outputs": [],
   "source": [
    "if 'clusterinfo_summary' in os.listdir('GNPS_output_graphML/') and 'DB_result' in os.listdir('GNPS_output_graphML/'):\n",
    "    netfile = 'GNPS_output_graphML/clusterinfo_summary/' + str(os.listdir('GNPS_output_graphML/clusterinfo_summary/')[0]) \n",
    "    gnpslibfile = 'GNPS_output_graphML/DB_result/'+ str(os.listdir('GNPS_output_graphML/DB_result/')[0]) \n",
    "elif 'clusterinfosummarygroup_attributes_withIDs_withcomponentID' in os.listdir('GNPS_output_graphML/'):\n",
    "    netfile = 'GNPS_output_graphML/clusterinfosummarygroup_attributes_withIDs_withcomponentID/' + str(os.listdir('GNPS_output_graphML/clusterinfosummarygroup_attributes_withIDs_withcomponentID/')[0])\n",
    "    gnpslibfile = 'GNPS_output_graphML/result_specnets_DB/'+ str(os.listdir('GNPS_output_graphML/result_specnets_DB/')[0])\n",
    "else:\n",
    "    netfile = 'GNPS_output_graphML/clusterinfosummary/' + str(os.listdir('GNPS_output_graphML/clusterinfosummary/')[0])\n",
    "    gnpslibfile = 'GNPS_output_graphML/result_specnets_DB/'+ str(os.listdir('GNPS_output_graphML/result_specnets_DB/')[0]) "
   ]
  },
  {
   "cell_type": "code",
   "execution_count": 4,
   "metadata": {},
   "outputs": [],
   "source": [
    "nap = pd.read_csv(\"http://proteomics2.ucsd.edu/ProteoSAFe/DownloadResultFile?task=\"+nap_id+\"&block=main&file=final_out/node_attributes_table.tsv\", sep = \"\\t\")\n",
    "gnpslib = pd.read_csv(gnpslibfile, sep='\\t')\n",
    "derep = pd.read_csv('Derep_output/'+[s for s in os.listdir('Derep_output') if \"DEREPLICATOR\" in s][0], sep = '\\t')\n",
    "varquest = pd.read_csv('Varquest_output/'+[s for s in os.listdir('Varquest_output') if \"DEREPLICATOR\" in s][0], sep = '\\t')"
   ]
  },
  {
   "cell_type": "markdown",
   "metadata": {},
   "source": [
    "add all chemical structural information output as dataframe items in list"
   ]
  },
  {
   "cell_type": "code",
   "execution_count": 5,
   "metadata": {},
   "outputs": [],
   "source": [
    "matches = [gnpslib, nap, derep, varquest]"
   ]
  },
  {
   "cell_type": "code",
   "execution_count": 6,
   "metadata": {},
   "outputs": [],
   "source": [
    "out = unique_smiles(matches)"
   ]
  },
  {
   "cell_type": "code",
   "execution_count": 7,
   "metadata": {},
   "outputs": [],
   "source": [
    "out['df'].to_csv(\"SMILES.csv\", quoting=csv.QUOTE_NONE, escapechar='&')"
   ]
  },
  {
   "cell_type": "markdown",
   "metadata": {},
   "source": [
    "convert SMILES to InchiKeys"
   ]
  },
  {
   "cell_type": "code",
   "execution_count": 8,
   "metadata": {},
   "outputs": [],
   "source": [
    "! molconvert inchikey:SAbs SMILES.csv{csv:strucSMILES} -o InchiKeys.txt"
   ]
  },
  {
   "cell_type": "code",
   "execution_count": 9,
   "metadata": {},
   "outputs": [],
   "source": [
    "ikeys = pd.read_csv(\"InchiKeys.txt\",  sep='\\t',header = None)\n",
    "\n",
    "out['df'][\"inchikey\"] = ikeys\n",
    "inchi_dic = make_inchidic(out)\n",
    "\n",
    "ikeys.columns = [\"InChIKey\"]\n",
    "ikeys.to_csv(\"InchiKeys.txt\", quoting=csv.QUOTE_NONE, escapechar='&')"
   ]
  },
  {
   "cell_type": "markdown",
   "metadata": {},
   "source": [
    "retrieve ClassyFire classifcations"
   ]
  },
  {
   "cell_type": "code",
   "execution_count": 10,
   "metadata": {},
   "outputs": [
    {
     "name": "stdout",
     "output_type": "stream",
     "text": [
      "1000\n",
      "2000\n"
     ]
    }
   ],
   "source": [
    "get_classifications(\"InchiKeys.txt\")"
   ]
  },
  {
   "cell_type": "code",
   "execution_count": 11,
   "metadata": {},
   "outputs": [],
   "source": [
    "with open(\"all_json.json\") as tweetfile:\n",
    "    jsondic = json.loads(tweetfile.read())\n",
    "\n",
    "\n",
    "df = make_classy_table(jsondic)\n",
    "df = df.rename(columns = {'class':'CF_class','smiles':'SMILES'})\n",
    "net = pd.read_csv(netfile,  sep='\\t')\n",
    "\n",
    "\n",
    "final = molfam_classes(net,df,inchi_dic)"
   ]
  },
  {
   "cell_type": "code",
   "execution_count": 12,
   "metadata": {},
   "outputs": [
    {
     "data": {
      "text/html": [
       "<div>\n",
       "<style scoped>\n",
       "    .dataframe tbody tr th:only-of-type {\n",
       "        vertical-align: middle;\n",
       "    }\n",
       "\n",
       "    .dataframe tbody tr th {\n",
       "        vertical-align: top;\n",
       "    }\n",
       "\n",
       "    .dataframe thead th {\n",
       "        text-align: right;\n",
       "    }\n",
       "</style>\n",
       "<table border=\"1\" class=\"dataframe\">\n",
       "  <thead>\n",
       "    <tr style=\"text-align: right;\">\n",
       "      <th></th>\n",
       "      <th>cluster index</th>\n",
       "      <th>CF_componentindex</th>\n",
       "      <th>CF_NrNodes</th>\n",
       "      <th>CF_kingdom</th>\n",
       "      <th>CF_kingdom_score</th>\n",
       "      <th>CF_superclass</th>\n",
       "      <th>CF_superclass_score</th>\n",
       "      <th>CF_class</th>\n",
       "      <th>CF_class_score</th>\n",
       "      <th>CF_subclass</th>\n",
       "      <th>CF_subclass_score</th>\n",
       "      <th>CF_Dparent</th>\n",
       "      <th>CF_Dparent_score</th>\n",
       "      <th>CF_MFramework</th>\n",
       "      <th>CF_MFramework_score</th>\n",
       "    </tr>\n",
       "  </thead>\n",
       "  <tbody>\n",
       "    <tr>\n",
       "      <th>0</th>\n",
       "      <td>1</td>\n",
       "      <td>S1</td>\n",
       "      <td>1</td>\n",
       "      <td>no matches</td>\n",
       "      <td></td>\n",
       "      <td>no matches</td>\n",
       "      <td></td>\n",
       "      <td>no matches</td>\n",
       "      <td></td>\n",
       "      <td>no matches</td>\n",
       "      <td></td>\n",
       "      <td>no matches</td>\n",
       "      <td></td>\n",
       "      <td>no matches</td>\n",
       "      <td></td>\n",
       "    </tr>\n",
       "    <tr>\n",
       "      <th>1</th>\n",
       "      <td>6</td>\n",
       "      <td>S2</td>\n",
       "      <td>1</td>\n",
       "      <td>no matches</td>\n",
       "      <td></td>\n",
       "      <td>no matches</td>\n",
       "      <td></td>\n",
       "      <td>no matches</td>\n",
       "      <td></td>\n",
       "      <td>no matches</td>\n",
       "      <td></td>\n",
       "      <td>no matches</td>\n",
       "      <td></td>\n",
       "      <td>no matches</td>\n",
       "      <td></td>\n",
       "    </tr>\n",
       "    <tr>\n",
       "      <th>2</th>\n",
       "      <td>19</td>\n",
       "      <td>S3</td>\n",
       "      <td>1</td>\n",
       "      <td>no matches</td>\n",
       "      <td></td>\n",
       "      <td>no matches</td>\n",
       "      <td></td>\n",
       "      <td>no matches</td>\n",
       "      <td></td>\n",
       "      <td>no matches</td>\n",
       "      <td></td>\n",
       "      <td>no matches</td>\n",
       "      <td></td>\n",
       "      <td>no matches</td>\n",
       "      <td></td>\n",
       "    </tr>\n",
       "    <tr>\n",
       "      <th>3</th>\n",
       "      <td>22</td>\n",
       "      <td>S4</td>\n",
       "      <td>1</td>\n",
       "      <td>no matches</td>\n",
       "      <td></td>\n",
       "      <td>no matches</td>\n",
       "      <td></td>\n",
       "      <td>no matches</td>\n",
       "      <td></td>\n",
       "      <td>no matches</td>\n",
       "      <td></td>\n",
       "      <td>no matches</td>\n",
       "      <td></td>\n",
       "      <td>no matches</td>\n",
       "      <td></td>\n",
       "    </tr>\n",
       "    <tr>\n",
       "      <th>4</th>\n",
       "      <td>24</td>\n",
       "      <td>S5</td>\n",
       "      <td>1</td>\n",
       "      <td>no matches</td>\n",
       "      <td></td>\n",
       "      <td>no matches</td>\n",
       "      <td></td>\n",
       "      <td>no matches</td>\n",
       "      <td></td>\n",
       "      <td>no matches</td>\n",
       "      <td></td>\n",
       "      <td>no matches</td>\n",
       "      <td></td>\n",
       "      <td>no matches</td>\n",
       "      <td></td>\n",
       "    </tr>\n",
       "  </tbody>\n",
       "</table>\n",
       "</div>"
      ],
      "text/plain": [
       "   cluster index CF_componentindex  CF_NrNodes  CF_kingdom CF_kingdom_score  \\\n",
       "0              1                S1           1  no matches                    \n",
       "1              6                S2           1  no matches                    \n",
       "2             19                S3           1  no matches                    \n",
       "3             22                S4           1  no matches                    \n",
       "4             24                S5           1  no matches                    \n",
       "\n",
       "  CF_superclass CF_superclass_score    CF_class CF_class_score CF_subclass  \\\n",
       "0    no matches                      no matches                 no matches   \n",
       "1    no matches                      no matches                 no matches   \n",
       "2    no matches                      no matches                 no matches   \n",
       "3    no matches                      no matches                 no matches   \n",
       "4    no matches                      no matches                 no matches   \n",
       "\n",
       "  CF_subclass_score  CF_Dparent CF_Dparent_score CF_MFramework  \\\n",
       "0                    no matches                     no matches   \n",
       "1                    no matches                     no matches   \n",
       "2                    no matches                     no matches   \n",
       "3                    no matches                     no matches   \n",
       "4                    no matches                     no matches   \n",
       "\n",
       "  CF_MFramework_score  \n",
       "0                      \n",
       "1                      \n",
       "2                      \n",
       "3                      \n",
       "4                      "
      ]
     },
     "execution_count": 12,
     "metadata": {},
     "output_type": "execute_result"
    }
   ],
   "source": [
    "final.head()"
   ]
  },
  {
   "cell_type": "markdown",
   "metadata": {},
   "source": [
    "write ClassyFire results per molecular family to file. To visualize chemical classes within the mass spectral molecular network, this file can be imported as table into Cytoscape."
   ]
  },
  {
   "cell_type": "code",
   "execution_count": 13,
   "metadata": {},
   "outputs": [],
   "source": [
    "final.to_csv(\"ClassyFireResults_Network.txt\", sep = '\\t', index = False)"
   ]
  },
  {
   "cell_type": "markdown",
   "metadata": {},
   "source": [
    "how many InChIKeys could not be classified? (percentage of total submitted InChIKeys)"
   ]
  },
  {
   "cell_type": "code",
   "execution_count": 14,
   "metadata": {},
   "outputs": [
    {
     "data": {
      "text/plain": [
       "0.015640273704789834"
      ]
     },
     "execution_count": 14,
     "metadata": {},
     "output_type": "execute_result"
    }
   ],
   "source": [
    "len(set(list(ikeys.InChIKey)) - set(list(df.inchikey)))/len(set(list(ikeys.InChIKey)))"
   ]
  },
  {
   "cell_type": "markdown",
   "metadata": {},
   "source": [
    "which InChIKeys could not be classified?"
   ]
  },
  {
   "cell_type": "code",
   "execution_count": 15,
   "metadata": {},
   "outputs": [
    {
     "data": {
      "text/plain": [
       "{'InChIKey=AUUCOMCTAAUNNA-VZUYHUTRSA-N',\n",
       " 'InChIKey=DBQMOXDLWKVKKG-WBVITSLISA-N',\n",
       " 'InChIKey=DCUCDCAIOMIBEA-UHFFFAOYSA-O',\n",
       " 'InChIKey=DHZUMZVZAZYQIW-USYZEHPZSA-N',\n",
       " 'InChIKey=DIHWZUCEXWUHOD-VZUYHUTRSA-N',\n",
       " 'InChIKey=DXOJIXGRFSHVKA-UHFFFAOYSA-N',\n",
       " 'InChIKey=DZPHTQGGRSWHLG-USYZEHPZSA-N',\n",
       " 'InChIKey=FISVEBQJGBZOPW-USYZEHPZSA-N',\n",
       " 'InChIKey=FOCMISOLVPZNSV-BRMDALHSSA-N',\n",
       " 'InChIKey=HJVOAEKCVMNQEX-QZNUWAOFSA-N',\n",
       " 'InChIKey=IDLUMGMMMVTISV-WBVITSLISA-N',\n",
       " 'InChIKey=JJISWJXUIHJHGL-RRHRGVEJSA-N',\n",
       " 'InChIKey=JRDVRIGVIDMJLK-QZNUWAOFSA-N',\n",
       " 'InChIKey=KQXVERRYBYGQJZ-UHFFFAOYSA-N',\n",
       " 'InChIKey=LHHCSNFAOIFYRV-UHFFFAOYSA-N',\n",
       " 'InChIKey=MNOGOEJZCHBAEJ-RWYGWLOXSA-N',\n",
       " 'InChIKey=NUDVEHBHDBJSMD-UHFFFAOYSA-N',\n",
       " 'InChIKey=PCKXGFCVDCVIHH-USYZEHPZSA-N',\n",
       " 'InChIKey=PIRVOZHXFFFFFG-USYZEHPZSA-N',\n",
       " 'InChIKey=PQEYJXRJLFZSPT-USYZEHPZSA-N',\n",
       " 'InChIKey=PQIJYJGVCKCIRT-VZUYHUTRSA-N',\n",
       " 'InChIKey=PTORLBABCFQDMJ-QZNUWAOFSA-N',\n",
       " 'InChIKey=PWAHARWXEAMNGK-QZNUWAOFSA-N',\n",
       " 'InChIKey=QBDIXBUIZWZTDA-QZNUWAOFSA-N',\n",
       " 'InChIKey=SKUXUTQFIVWLNQ-QZNUWAOFSA-N',\n",
       " 'InChIKey=SNKAWJBJQDLSFF-UHFFFAOYSA-O',\n",
       " 'InChIKey=SOSODLPIZNSISY-VZUYHUTRSA-N',\n",
       " 'InChIKey=UJQQGEDCLSFEMD-KTSAPKHVSA-N',\n",
       " 'InChIKey=VPAHZSUNBOYNQY-UHFFFAOYSA-N',\n",
       " 'InChIKey=XIXCTNRTCFJCTP-QZNUWAOFSA-N',\n",
       " 'InChIKey=XUQUBMWHOCTWHI-QZNUWAOFSA-N',\n",
       " 'InChIKey=YGZYGQXACNZDAJ-KTSAPKHVSA-N'}"
      ]
     },
     "execution_count": 15,
     "metadata": {},
     "output_type": "execute_result"
    }
   ],
   "source": [
    "set(list(ikeys.InChIKey)) - set(list(df.inchikey))"
   ]
  },
  {
   "cell_type": "markdown",
   "metadata": {},
   "source": [
    "create graphML file"
   ]
  },
  {
   "cell_type": "code",
   "execution_count": 17,
   "metadata": {},
   "outputs": [],
   "source": [
    "if any(\"FEATURE\" in s for s in os.listdir('GNPS_output_graphML/')):\n",
    "    graphMLfile = 'GNPS_output_graphML/' + [x for x in os.listdir('GNPS_output_graphML/') if 'FEATURE' in x][0]\n",
    "    graphML = read_graphml(graphMLfile)\n",
    "    graphML_classy = make_classyfire_graphml(graphML,final)\n",
    "    nx.write_graphml(graphML_classy, \"ClassyFireResults_Network.graphml\", infer_numeric_types = True)\n",
    "elif any(\"METABOLOMICS\" in s for s in os.listdir('GNPS_output_graphML/')):\n",
    "    graphMLfile = 'GNPS_output_graphML/' + [x for x in os.listdir('GNPS_output_graphML/') if 'METABOLOMICS' in x][0]\n",
    "    graphML = read_graphml(graphMLfile)\n",
    "    graphML_classy = make_classyfire_graphml(graphML,final)\n",
    "    nx.write_graphml(graphML_classy, \"ClassyFireResults_Network.graphml\", infer_numeric_types = True)\n",
    "else:\n",
    "    print('There is no graphML file for this GNPS molecular network job')"
   ]
  },
  {
   "cell_type": "code",
   "execution_count": null,
   "metadata": {},
   "outputs": [],
   "source": []
  }
 ],
 "metadata": {
  "kernelspec": {
   "display_name": "Python 3",
   "language": "python",
   "name": "python3"
  },
  "language_info": {
   "codemirror_mode": {
    "name": "ipython",
    "version": 3
   },
   "file_extension": ".py",
   "mimetype": "text/x-python",
   "name": "python",
   "nbconvert_exporter": "python",
   "pygments_lexer": "ipython3",
   "version": "3.6.5"
  }
 },
 "nbformat": 4,
 "nbformat_minor": 2
}
